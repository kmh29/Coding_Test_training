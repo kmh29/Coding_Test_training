{
 "cells": [
  {
   "cell_type": "markdown",
   "metadata": {},
   "source": [
    "# 이상한 문자 만들기"
   ]
  },
  {
   "cell_type": "markdown",
   "metadata": {},
   "source": [
    "- 문제 설명\n",
    "\n",
    "문자열 s는 한 개 이상의 단어로 구성되어 있습니다. 각 단어는 하나 이상의 공백문자로 구분되어 있습니다. 각 단어의 짝수번째 알파벳\n",
    "\n",
    "은 대문자로, 홀수번째 알파벳은 소문자로 바꾼 문자열을 리턴하는 함수, solution을 완성하세요.\n",
    "\n",
    "- 제한 \n",
    "\n",
    "문자열 전체의 짝/홀수 인덱스가 아니라, 단어(공백을 기준)별로 짝/홀수 인덱스를 판단해야합니다.\n",
    "\n",
    "첫 번째 글자는 0번째 인덱스로 보아 짝수번째 알파벳으로 처리해야 합니다.\n",
    "\n",
    "- 입출력 예\n",
    "\n",
    "s\treturn\n",
    "\n",
    "try hello world\tTrY HeLlO WoRlD\n",
    "\n",
    "\n",
    "try hello world는 세 단어 try, hello, world로 구성되어 있습니다. 각 단어의 짝수번째 문자를 대문자로, 홀수번째 문자를 소문자로 \n",
    "\n",
    "바꾸면 TrY, HeLlO, WoRlD입니다. 따라서 TrY HeLlO WoRlD 를 리턴합니다."
   ]
  },
  {
   "cell_type": "code",
   "execution_count": 1,
   "metadata": {},
   "outputs": [],
   "source": [
    "def solution(s):\n",
    "    list1 = []\n",
    "    sd = s.split() #각 단어를 나눔\n",
    "    for i in range(len(sd)):\n",
    "        for j in range(len(sd[i])):\n",
    "             else:\n",
    "                if j%2 == 0:\n",
    "                    list1.append(sd[i][j].upper())\n",
    "                else:\n",
    "                    list1.append(sd[i][j].lower())\n",
    "\n",
    "\n",
    "    for i in range(len(s)):\n",
    "        if s[i] == ' ':\n",
    "            list1.insert(i,' ')\n",
    "        \n",
    "        \n",
    "    return ''.join(list1)"
   ]
  },
  {
   "cell_type": "code",
   "execution_count": 2,
   "metadata": {},
   "outputs": [],
   "source": [
    "# 다른풀이\n",
    "\n",
    "def solution2 (s):\n",
    "\n",
    "    return ' '.join([''.join([c.upper() if i % 2 == 0 else c.lower() for i, c in enumerate(w)]) for w in s.split()])"
   ]
  },
  {
   "cell_type": "code",
   "execution_count": 3,
   "metadata": {},
   "outputs": [],
   "source": [
    "def solution3 (s):\n",
    "    return \" \".join(map(lambda x: \"\".join([a.lower() if i % 2 else a.upper() for i, a in enumerate(x)]), s.split(\" \")))"
   ]
  },
  {
   "cell_type": "markdown",
   "metadata": {},
   "source": [
    "# 시저 암호\n",
    "\n",
    "\n",
    "- 문제 설명\n",
    "\n",
    "어떤 문장의 각 알파벳을 일정한 거리만큼 밀어서 다른 알파벳으로 바꾸는 암호화 방식을 시저 암호라고 합니다. 예를 들어 AB는 1만큼 \n",
    "\n",
    "밀면 BC가 되고, 3만큼 밀면 DE가 됩니다. z는 1만큼 밀면 a가 됩니다. 문자열 s와 거리 n을 입력받아 s를 n만큼 민 암호문을 만드는 함\n",
    "\n",
    "수, solution을 완성해 보세요.\n",
    "\n",
    "- 제한 조건\n",
    "\n",
    "공백은 아무리 밀어도 공백입니다.\n",
    "\n",
    "s는 알파벳 소문자, 대문자, 공백으로만 이루어져 있습니다.\n",
    "\n",
    "s의 길이는 8000이하입니다.\n",
    "\n",
    "n은 1 이상, 25이하인 자연수입니다.\n",
    "\n",
    "\n",
    "- 입출력 예\n",
    "\n",
    "s\tn\tresult\n",
    "\n",
    "AB\t1\tBC\n",
    "\n",
    "z\t1\ta\n",
    "\n",
    "a B z\t4\t"
   ]
  },
  {
   "cell_type": "code",
   "execution_count": 1,
   "metadata": {},
   "outputs": [],
   "source": [
    "def solution(s, n):\n",
    "    \n",
    "    list1 = []\n",
    "    for i in s:\n",
    "        if i != ' ':\n",
    "            if i.islower == True:\n",
    "                if (ord(i)+n)>ord('z')  & (ord(i)+n)>=ord('a') :\n",
    "                    list1.append(chr(ord(i)+n-26))\n",
    "                else:\n",
    "                    list1.append(chr(ord(i)+n))\n",
    "            else :\n",
    "                if ord('a')+n > ord(i)+n > ord('Z') or ord(i)+n>ord('z'):\n",
    "                    list1.append(chr(ord(i)+n-26))\n",
    "                else:\n",
    "                    list1.append(chr(ord(i)+n))\n",
    "        else :\n",
    "            list1.append(chr(ord(i)))\n",
    "            \n",
    "    list2 = ''.join(list1)\n",
    "    \n",
    "    return list2\n"
   ]
  },
  {
   "cell_type": "code",
   "execution_count": null,
   "metadata": {},
   "outputs": [],
   "source": [
    "# 다른 풀이\n",
    "\n",
    "def caesar(s, n):\n",
    "    s = list(s)\n",
    "    for i in range(len(s)):\n",
    "        if s[i].isupper():\n",
    "            s[i]=chr((ord(s[i])-ord('A')+ n)%26+ord('A'))\n",
    "        elif s[i].islower():\n",
    "            s[i]=chr((ord(s[i])-ord('a')+ n)%26+ord('a'))\n",
    "\n",
    "    return \"\".join(s)"
   ]
  },
  {
   "cell_type": "code",
   "execution_count": 2,
   "metadata": {},
   "outputs": [],
   "source": [
    "# isalpha() : 해당 문자가 영문자인지 확인하는 함수.\n",
    "# chr과 ord의 활용"
   ]
  },
  {
   "cell_type": "code",
   "execution_count": null,
   "metadata": {},
   "outputs": [],
   "source": []
  }
 ],
 "metadata": {
  "kernelspec": {
   "display_name": "Python 3",
   "language": "python",
   "name": "python3"
  },
  "language_info": {
   "codemirror_mode": {
    "name": "ipython",
    "version": 3
   },
   "file_extension": ".py",
   "mimetype": "text/x-python",
   "name": "python",
   "nbconvert_exporter": "python",
   "pygments_lexer": "ipython3",
   "version": "3.7.6"
  }
 },
 "nbformat": 4,
 "nbformat_minor": 4
}
